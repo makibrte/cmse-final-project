{
 "cells": [
  {
   "cell_type": "markdown",
   "id": "b4de1664",
   "metadata": {},
   "source": [
    "#### CMSE 202 Final Project\n",
    "### &#9989; Mateja Milicevic, Blake Christiansen, Eli Denslow, Alan Leon\n",
    "### &#9989; Section_001\n",
    "#### &#9989; 12/04/2022\n",
    "\n",
    "# Can you predict a stock using methods we learned in class and some extra\n",
    "\n",
    "## Research question and motivation\n",
    "The idea is to try and use methods of machine learning that we learned in class in order to try and predict price of a stock <br>\n",
    "For this project we have used the TESLA(TSLA) stock.<br>\n",
    "For supervised machine learning we have used Tensorflow and for Unsupervised we have used PyTorch and CUDA. <br>\n",
    "The motivation behind the project is mostly due to the fact that the stock market in general is very hard to predict even with advance methods. <br>\n",
    "So we just decided to take a crack at it.\n",
    "\n",
    "# Methods for Supervised Learning\n",
    "For supervised learning we got our data from yfinance API and trained a LTSM model on it. We used template models from tensorflow. <br>\n",
    "Than we compared the data to the actual prices"
   ]
  },
  {
   "cell_type": "code",
   "execution_count": 3,
   "id": "1150d3b6",
   "metadata": {},
   "outputs": [
    {
     "name": "stderr",
     "output_type": "stream",
     "text": [
      "2022-12-04 22:34:19.271160: I tensorflow/core/platform/cpu_feature_guard.cc:193] This TensorFlow binary is optimized with oneAPI Deep Neural Network Library (oneDNN) to use the following CPU instructions in performance-critical operations:  AVX2 FMA\n",
      "To enable them in other operations, rebuild TensorFlow with the appropriate compiler flags.\n",
      "2022-12-04 22:34:19.502901: W tensorflow/compiler/xla/stream_executor/platform/default/dso_loader.cc:64] Could not load dynamic library 'libcudart.so.11.0'; dlerror: libcudart.so.11.0: cannot open shared object file: No such file or directory\n",
      "2022-12-04 22:34:19.502921: I tensorflow/compiler/xla/stream_executor/cuda/cudart_stub.cc:29] Ignore above cudart dlerror if you do not have a GPU set up on your machine.\n",
      "2022-12-04 22:34:20.560504: W tensorflow/compiler/xla/stream_executor/platform/default/dso_loader.cc:64] Could not load dynamic library 'libnvinfer.so.7'; dlerror: libnvinfer.so.7: cannot open shared object file: No such file or directory\n",
      "2022-12-04 22:34:20.560583: W tensorflow/compiler/xla/stream_executor/platform/default/dso_loader.cc:64] Could not load dynamic library 'libnvinfer_plugin.so.7'; dlerror: libnvinfer_plugin.so.7: cannot open shared object file: No such file or directory\n",
      "2022-12-04 22:34:20.560592: W tensorflow/compiler/tf2tensorrt/utils/py_utils.cc:38] TF-TRT Warning: Cannot dlopen some TensorRT libraries. If you would like to use Nvidia GPU with TensorRT, please make sure the missing libraries mentioned above are installed properly.\n"
     ]
    }
   ],
   "source": [
    "%matplotlib inline\n",
    "import matplotlib\n",
    "import matplotlib.pyplot as plt\n",
    "import pandas as pd\n",
    "import numpy as np\n",
    "import datetime as dt\n",
    "import pandas_datareader as web\n",
    "\n",
    "from sklearn.preprocessing import MinMaxScaler\n",
    "from tensorflow.keras.models import Sequential\n",
    "from tensorflow.keras.layers import Dense, Dropout, LSTM"
   ]
  },
  {
   "cell_type": "code",
   "execution_count": null,
   "id": "331ffb35",
   "metadata": {},
   "outputs": [],
   "source": [
    "#!pip install sklearn\n",
    "#!pip install tensorflow\n",
    "#!pip install scikit-learn"
   ]
  },
  {
   "cell_type": "code",
   "execution_count": 4,
   "id": "da7cd41d",
   "metadata": {},
   "outputs": [],
   "source": [
    "#Load Data\n",
    "\n",
    "company='TSLA'\n",
    "\n",
    "start=dt.datetime(2012,1,1)\n",
    "end=dt.datetime(2021,1,1)\n",
    "\n",
    "#pull data from yahoo finance\n",
    "data=web.DataReader(company, 'yahoo', start, end)\n",
    "\n"
   ]
  },
  {
   "cell_type": "markdown",
   "id": "a6c6afbd-5000-404b-aa77-b236d3740e36",
   "metadata": {},
   "source": [
    "Here pandas data reader is used to pull data from the yahoo finance api for a certain time range as seen above using web.DataReader. The time range selected was from the first of January 2012 til the first of January 2021, which were stored in the start and end variables. Using web.DataReader a dataframe with all respective dates within the time frame and the each dates  High price, Low price, Open price, Volume, and Adj Close, is created. For this project, we will focus on using the closing prices to predict future closing prices as seen below. So data['close'] will be used frequently to accesss the values of closing prices of the TSLA ticker representing the company Tesla. "
   ]
  },
  {
   "cell_type": "code",
   "execution_count": 5,
   "id": "57fe62bf",
   "metadata": {},
   "outputs": [],
   "source": [
    "# Prepare Data\n",
    "\n",
    "scaler=MinMaxScaler(feature_range=(0,1))\n",
    "scaled_data=scaler.fit_transform(data['Close'].values.reshape(-1,1))\n",
    "\n",
    "prediction_days=60"
   ]
  },
  {
   "cell_type": "markdown",
   "id": "788dcda6-64d0-4981-b44f-9ee40ae4d0bf",
   "metadata": {},
   "source": [
    "The data must be scaled into values between 0 and 1, in order to be used in the LSTM and Dropout models to predict future price.  In this case the closing prices is being manipulated using MinMax Scaler function from sklearn.preprocessing. The data can later be readjusted by unscaling afterwards to get the true closing price values. The prediction_days variable is also set. This variable represents how many days in the past are used to base the prediction on for closing price in the future. "
   ]
  },
  {
   "cell_type": "code",
   "execution_count": 6,
   "id": "9194c539",
   "metadata": {},
   "outputs": [],
   "source": [
    "x_train = []\n",
    "y_train = []\n",
    "\n",
    "for x in range(prediction_days, len(scaled_data)):\n",
    "    x_train.append(scaled_data[x-prediction_days:x,0])\n",
    "    y_train.append(scaled_data[x,0])\n",
    "    \n",
    "x_train, y_train = np.array(x_train), np.array(y_train)\n",
    "x_train=np.reshape(x_train, (x_train.shape[0], x_train.shape[1],1))\n",
    "    "
   ]
  },
  {
   "cell_type": "markdown",
   "id": "e4d11e17-ca63-439f-964c-0f6bc2d889fe",
   "metadata": {},
   "source": [
    "Here the training data is defined. The training data will iterate from the 60th index set by the prediction_days variable till the last index. For x train we will append 60 values for each x in the iteration and also an additional value so that the model can learn to predict what the 61st value is going to be. Then x_train and Y_train are converted into numpy arrays using np.array. Finally, x_train is reshaped so that it can be used as an input to the LSTM model, which will be seen in the next cell. "
   ]
  },
  {
   "cell_type": "code",
   "execution_count": 7,
   "id": "3d2446b6",
   "metadata": {},
   "outputs": [
    {
     "name": "stderr",
     "output_type": "stream",
     "text": [
      "2022-12-04 22:34:41.387627: W tensorflow/compiler/xla/stream_executor/platform/default/dso_loader.cc:64] Could not load dynamic library 'libcuda.so.1'; dlerror: libcuda.so.1: cannot open shared object file: No such file or directory\n",
      "2022-12-04 22:34:41.387659: W tensorflow/compiler/xla/stream_executor/cuda/cuda_driver.cc:265] failed call to cuInit: UNKNOWN ERROR (303)\n",
      "2022-12-04 22:34:41.387689: I tensorflow/compiler/xla/stream_executor/cuda/cuda_diagnostics.cc:156] kernel driver does not appear to be running on this host (matmil): /proc/driver/nvidia/version does not exist\n",
      "2022-12-04 22:34:41.387966: I tensorflow/core/platform/cpu_feature_guard.cc:193] This TensorFlow binary is optimized with oneAPI Deep Neural Network Library (oneDNN) to use the following CPU instructions in performance-critical operations:  AVX2 FMA\n",
      "To enable them in other operations, rebuild TensorFlow with the appropriate compiler flags.\n"
     ]
    },
    {
     "name": "stdout",
     "output_type": "stream",
     "text": [
      "Epoch 1/25\n",
      "69/69 [==============================] - 14s 126ms/step - loss: 0.0033\n",
      "Epoch 2/25\n",
      "69/69 [==============================] - 9s 133ms/step - loss: 7.5968e-04\n",
      "Epoch 3/25\n",
      "69/69 [==============================] - 8s 120ms/step - loss: 7.1992e-04\n",
      "Epoch 4/25\n",
      "69/69 [==============================] - 7s 98ms/step - loss: 7.4591e-04\n",
      "Epoch 5/25\n",
      "69/69 [==============================] - 7s 100ms/step - loss: 7.0148e-04\n",
      "Epoch 6/25\n",
      "69/69 [==============================] - 8s 122ms/step - loss: 6.6199e-04\n",
      "Epoch 7/25\n",
      "69/69 [==============================] - 7s 95ms/step - loss: 5.8774e-04\n",
      "Epoch 8/25\n",
      "69/69 [==============================] - 8s 114ms/step - loss: 7.1806e-04\n",
      "Epoch 9/25\n",
      "69/69 [==============================] - 7s 102ms/step - loss: 5.0284e-04\n",
      "Epoch 10/25\n",
      "69/69 [==============================] - 7s 97ms/step - loss: 5.8063e-04\n",
      "Epoch 11/25\n",
      "69/69 [==============================] - 7s 97ms/step - loss: 5.1626e-04\n",
      "Epoch 12/25\n",
      "69/69 [==============================] - 8s 121ms/step - loss: 6.3475e-04\n",
      "Epoch 13/25\n",
      "69/69 [==============================] - 6s 93ms/step - loss: 6.3361e-04\n",
      "Epoch 14/25\n",
      "69/69 [==============================] - 8s 112ms/step - loss: 5.0663e-04\n",
      "Epoch 15/25\n",
      "69/69 [==============================] - 7s 107ms/step - loss: 4.7304e-04\n",
      "Epoch 16/25\n",
      "69/69 [==============================] - 7s 99ms/step - loss: 6.1090e-04\n",
      "Epoch 17/25\n",
      "69/69 [==============================] - 7s 105ms/step - loss: 5.6816e-04\n",
      "Epoch 18/25\n",
      "69/69 [==============================] - 8s 114ms/step - loss: 4.7678e-04\n",
      "Epoch 19/25\n",
      "69/69 [==============================] - 6s 90ms/step - loss: 4.8046e-04\n",
      "Epoch 20/25\n",
      "69/69 [==============================] - 7s 100ms/step - loss: 4.3302e-04\n",
      "Epoch 21/25\n",
      "69/69 [==============================] - 6s 91ms/step - loss: 5.1906e-04\n",
      "Epoch 22/25\n",
      "69/69 [==============================] - 7s 100ms/step - loss: 5.3898e-04\n",
      "Epoch 23/25\n",
      "69/69 [==============================] - 8s 113ms/step - loss: 5.3521e-04\n",
      "Epoch 24/25\n",
      "69/69 [==============================] - 7s 106ms/step - loss: 3.7070e-04\n",
      "Epoch 25/25\n",
      "69/69 [==============================] - 4s 61ms/step - loss: 4.7747e-04\n"
     ]
    },
    {
     "data": {
      "text/plain": [
       "<keras.callbacks.History at 0x7f01b77becd0>"
      ]
     },
     "execution_count": 7,
     "metadata": {},
     "output_type": "execute_result"
    }
   ],
   "source": [
    "#Build The Model\n",
    "model = Sequential()\n",
    "model.add(LSTM(units=50, return_sequences=True, input_shape=(x_train.shape[1],1)))\n",
    "model.add(Dropout(0.2))\n",
    "model.add(LSTM(units=50, return_sequences=True))\n",
    "model.add(Dropout(0.2))\n",
    "model.add(LSTM(units=50))\n",
    "model.add(Dropout(0.2))\n",
    "model.add(Dense(units=1)) #Prediction of the Next Closing Value\n",
    "          \n",
    "model.compile(optimizer='adam', loss='mean_squared_error')\n",
    "model.fit(x_train, y_train, epochs=25, batch_size=32)\n",
    "          \n"
   ]
  },
  {
   "cell_type": "markdown",
   "id": "58e6f540-ccfb-4774-b5ad-ba370afc39f3",
   "metadata": {},
   "source": [
    "Here the model is built using a sequential model. This basic neural network model uses repeated layers to produce the model. In this case, one LSTM will be used then a Dropout, repeatedly, until the final layer which is the Dense layer. This dense layer is responsible for the closing stock price prediction. Here units 50 were used and three layers. Generally, when more layers are used the longer it will take to train the data. For efficiency, three layers were used. The same is also true for the units argument within the LSTM layers. Finallly, the model is compiled using adam optimizer with the loss function being mean squared error, and the model is fitted using the training data."
   ]
  },
  {
   "cell_type": "code",
   "execution_count": 8,
   "id": "045094fd",
   "metadata": {},
   "outputs": [],
   "source": [
    "#accuracy test on existing data\n",
    "\n",
    "#prepare test data\n",
    "\n",
    "test_start=dt.datetime(2021,1,1)\n",
    "test_end=dt.datetime(2022,11,1)\n",
    "\n",
    "test_data= web.DataReader(company, 'yahoo', test_start, test_end)\n",
    "\n",
    "actual_prices=test_data['Close'].values\n",
    "\n",
    "total_dataset = pd.concat((data['Close'], test_data['Close']), axis=0)\n",
    "model_inputs = total_dataset[len(total_dataset)-len(test_data)-prediction_days:].values\n",
    "model_inputs = model_inputs.reshape(-1,1)\n",
    "model_inputs = scaler.transform(model_inputs)"
   ]
  },
  {
   "cell_type": "markdown",
   "id": "7250b5f4-b4ce-41b7-884c-f9fdf341f0e4",
   "metadata": {},
   "source": [
    "Here the model is tested to see how well it would perform on past data. First test data is prepared using datetime module in python.  The test data is created using the same TSLA ticker symbol by calling the ticker variable to web.DataReader. Then the closing prices are pulled from test_data using ['Close']. Afterwards, the test_data dataframe is concatenated with the 'data' data frame which was used previously using pd.concat. This allows for predictions to be made on the existing data. However, in order for the model to be able to make those predictions the test_data must be reshaped as done prior specifically for the LSTM layers of Sequential neural network, which is performed in the last two lines of the cell above. "
   ]
  },
  {
   "cell_type": "code",
   "execution_count": 9,
   "id": "9d4207bf",
   "metadata": {},
   "outputs": [
    {
     "name": "stdout",
     "output_type": "stream",
     "text": [
      "15/15 [==============================] - 1s 19ms/step\n"
     ]
    }
   ],
   "source": [
    "#Make Predicitions on Test Data\n",
    "\n",
    "x_test=[]\n",
    "for x in range(prediction_days, len(model_inputs)):\n",
    "    x_test.append(model_inputs[x-prediction_days:x,0])\n",
    "    \n",
    "x_test=np.array(x_test)\n",
    "\n",
    "x_test = np.reshape(x_test, (x_test.shape[0], x_test.shape[1], 1))\n",
    "\n",
    "predicted_prices= model.predict(x_test)\n",
    "predicted_prices=scaler.inverse_transform(predicted_prices)"
   ]
  },
  {
   "cell_type": "markdown",
   "id": "8d1683af-64ed-46b4-a7d9-ba3cb5758628",
   "metadata": {},
   "source": [
    "Here predictions are being made on the existing test data. Like previously we will iterate through predicition_days index value 60 until the length of the concatenated data and test_data dataframe which are assigned to the model_inputs variable. Then append values to x_test by indexing model_inputs then convert x_test into a numpy array. Afterwards, the x_test is reshaped so that the model can once again predict prices using x_test by using model.predic(x_test). The last line transforms the closing prices back to their real values so that true price can be compared (no longer want data from 0 to 1). \n"
   ]
  },
  {
   "cell_type": "code",
   "execution_count": 10,
   "id": "dcfbe8b5",
   "metadata": {},
   "outputs": [
    {
     "data": {
      "image/png": "[encoded data removed]",
      "text/plain": [
       "<Figure size 640x480 with 1 Axes>"
      ]
     },
     "metadata": {},
     "output_type": "display_data"
    }
   ],
   "source": [
    "#Plot Test Predictions\n",
    "plt.plot(actual_prices, color='black', label=f\"Actual {company} price\")\n",
    "plt.plot(predicted_prices, color='red', label=f\"Predicted {company} price\")\n",
    "plt.title(f\"{company} Share Price\")\n",
    "plt.xlabel('Time')\n",
    "plt.ylabel(f'{company} share price')\n",
    "plt.legend()\n",
    "plt.show()"
   ]
  },
  {
   "cell_type": "markdown",
   "id": "acf27e09-adbb-42ba-be24-750dd2af0199",
   "metadata": {},
   "source": [
    "# Results for Supervised Learning\n",
    "Here the existing test_data is ploted against the models predicted prices using matplotlib.pyplot. With the models predictions of the test_data in red and the actual prices for the test_data in black. As can be seen for the visualization the model is not very accurate for numerous reasons. Since the model is currently using closing price to predict closing price it is reactionary. This is exemplified by the rightward shift of the predicted price from the actual price. The model is reacting to changes in price and responding accordingly but not effectively predicting it like we would like it to. Additionally, the model underpredicts many of the highs or peaks in the closing price. This model could be improved using more technical analysis indicators. For example, RSI could be used as a component in the prediction of stock price. As you can see the RMSE is 68 which is not that great but considering that stock prices are so unpredictable this is a decent result"
   ]
  },
  {
   "cell_type": "code",
   "execution_count": 11,
   "id": "662cefee-4aed-444d-9963-9d4d331bb1f9",
   "metadata": {},
   "outputs": [
    {
     "data": {
      "text/plain": [
       "68.68145499614782"
      ]
     },
     "execution_count": 11,
     "metadata": {},
     "output_type": "execute_result"
    }
   ],
   "source": [
    "np.sqrt(np.mean((predicted_prices-actual_prices)**2))"
   ]
  },
  {
   "cell_type": "code",
   "execution_count": 13,
   "id": "2ef4c87a",
   "metadata": {},
   "outputs": [
    {
     "data": {
      "text/html": [
       "<div>\n",
       "<style scoped>\n",
       "    .dataframe tbody tr th:only-of-type {\n",
       "        vertical-align: middle;\n",
       "    }\n",
       "\n",
       "    .dataframe tbody tr th {\n",
       "        vertical-align: top;\n",
       "    }\n",
       "\n",
       "    .dataframe thead th {\n",
       "        text-align: right;\n",
       "    }\n",
       "</style>\n",
       "<table border=\"1\" class=\"dataframe\">\n",
       "  <thead>\n",
       "    <tr style=\"text-align: right;\">\n",
       "      <th></th>\n",
       "      <th>High</th>\n",
       "      <th>Low</th>\n",
       "      <th>Open</th>\n",
       "      <th>Close</th>\n",
       "      <th>Volume</th>\n",
       "      <th>Adj Close</th>\n",
       "      <th>Predicted Prices</th>\n",
       "    </tr>\n",
       "    <tr>\n",
       "      <th>Date</th>\n",
       "      <th></th>\n",
       "      <th></th>\n",
       "      <th></th>\n",
       "      <th></th>\n",
       "      <th></th>\n",
       "      <th></th>\n",
       "      <th></th>\n",
       "    </tr>\n",
       "  </thead>\n",
       "  <tbody>\n",
       "    <tr>\n",
       "      <th>2021-01-04</th>\n",
       "      <td>248.163330</td>\n",
       "      <td>239.063339</td>\n",
       "      <td>239.820007</td>\n",
       "      <td>243.256668</td>\n",
       "      <td>145914600.0</td>\n",
       "      <td>243.256668</td>\n",
       "      <td>219.619156</td>\n",
       "    </tr>\n",
       "    <tr>\n",
       "      <th>2021-01-05</th>\n",
       "      <td>246.946671</td>\n",
       "      <td>239.733337</td>\n",
       "      <td>241.220001</td>\n",
       "      <td>245.036667</td>\n",
       "      <td>96735600.0</td>\n",
       "      <td>245.036667</td>\n",
       "      <td>223.096786</td>\n",
       "    </tr>\n",
       "    <tr>\n",
       "      <th>2021-01-06</th>\n",
       "      <td>258.000000</td>\n",
       "      <td>249.699997</td>\n",
       "      <td>252.830002</td>\n",
       "      <td>251.993332</td>\n",
       "      <td>134100000.0</td>\n",
       "      <td>251.993332</td>\n",
       "      <td>227.165146</td>\n",
       "    </tr>\n",
       "    <tr>\n",
       "      <th>2021-01-07</th>\n",
       "      <td>272.329987</td>\n",
       "      <td>258.399994</td>\n",
       "      <td>259.209991</td>\n",
       "      <td>272.013336</td>\n",
       "      <td>154496700.0</td>\n",
       "      <td>272.013336</td>\n",
       "      <td>231.739212</td>\n",
       "    </tr>\n",
       "    <tr>\n",
       "      <th>2021-01-08</th>\n",
       "      <td>294.829987</td>\n",
       "      <td>279.463318</td>\n",
       "      <td>285.333344</td>\n",
       "      <td>293.339996</td>\n",
       "      <td>225166500.0</td>\n",
       "      <td>293.339996</td>\n",
       "      <td>237.852966</td>\n",
       "    </tr>\n",
       "    <tr>\n",
       "      <th>...</th>\n",
       "      <td>...</td>\n",
       "      <td>...</td>\n",
       "      <td>...</td>\n",
       "      <td>...</td>\n",
       "      <td>...</td>\n",
       "      <td>...</td>\n",
       "      <td>...</td>\n",
       "    </tr>\n",
       "    <tr>\n",
       "      <th>2022-10-26</th>\n",
       "      <td>230.600006</td>\n",
       "      <td>218.199997</td>\n",
       "      <td>219.399994</td>\n",
       "      <td>224.639999</td>\n",
       "      <td>85012500.0</td>\n",
       "      <td>224.639999</td>\n",
       "      <td>216.886124</td>\n",
       "    </tr>\n",
       "    <tr>\n",
       "      <th>2022-10-27</th>\n",
       "      <td>233.809998</td>\n",
       "      <td>222.850006</td>\n",
       "      <td>229.770004</td>\n",
       "      <td>225.089996</td>\n",
       "      <td>61638800.0</td>\n",
       "      <td>225.089996</td>\n",
       "      <td>217.936386</td>\n",
       "    </tr>\n",
       "    <tr>\n",
       "      <th>2022-10-28</th>\n",
       "      <td>228.860001</td>\n",
       "      <td>216.350006</td>\n",
       "      <td>225.399994</td>\n",
       "      <td>228.520004</td>\n",
       "      <td>69152400.0</td>\n",
       "      <td>228.520004</td>\n",
       "      <td>219.481979</td>\n",
       "    </tr>\n",
       "    <tr>\n",
       "      <th>2022-10-31</th>\n",
       "      <td>229.850006</td>\n",
       "      <td>221.940002</td>\n",
       "      <td>226.190002</td>\n",
       "      <td>227.539993</td>\n",
       "      <td>61554300.0</td>\n",
       "      <td>227.539993</td>\n",
       "      <td>221.420319</td>\n",
       "    </tr>\n",
       "    <tr>\n",
       "      <th>2022-11-01</th>\n",
       "      <td>237.399994</td>\n",
       "      <td>227.279999</td>\n",
       "      <td>234.050003</td>\n",
       "      <td>227.820007</td>\n",
       "      <td>62688800.0</td>\n",
       "      <td>227.820007</td>\n",
       "      <td>223.308609</td>\n",
       "    </tr>\n",
       "  </tbody>\n",
       "</table>\n",
       "<p>462 rows × 7 columns</p>\n",
       "</div>"
      ],
      "text/plain": [
       "                  High         Low        Open       Close       Volume  \\\n",
       "Date                                                                      \n",
       "2021-01-04  248.163330  239.063339  239.820007  243.256668  145914600.0   \n",
       "2021-01-05  246.946671  239.733337  241.220001  245.036667   96735600.0   \n",
       "2021-01-06  258.000000  249.699997  252.830002  251.993332  134100000.0   \n",
       "2021-01-07  272.329987  258.399994  259.209991  272.013336  154496700.0   \n",
       "2021-01-08  294.829987  279.463318  285.333344  293.339996  225166500.0   \n",
       "...                ...         ...         ...         ...          ...   \n",
       "2022-10-26  230.600006  218.199997  219.399994  224.639999   85012500.0   \n",
       "2022-10-27  233.809998  222.850006  229.770004  225.089996   61638800.0   \n",
       "2022-10-28  228.860001  216.350006  225.399994  228.520004   69152400.0   \n",
       "2022-10-31  229.850006  221.940002  226.190002  227.539993   61554300.0   \n",
       "2022-11-01  237.399994  227.279999  234.050003  227.820007   62688800.0   \n",
       "\n",
       "             Adj Close  Predicted Prices  \n",
       "Date                                      \n",
       "2021-01-04  243.256668        219.619156  \n",
       "2021-01-05  245.036667        223.096786  \n",
       "2021-01-06  251.993332        227.165146  \n",
       "2021-01-07  272.013336        231.739212  \n",
       "2021-01-08  293.339996        237.852966  \n",
       "...                ...               ...  \n",
       "2022-10-26  224.639999        216.886124  \n",
       "2022-10-27  225.089996        217.936386  \n",
       "2022-10-28  228.520004        219.481979  \n",
       "2022-10-31  227.539993        221.420319  \n",
       "2022-11-01  227.820007        223.308609  \n",
       "\n",
       "[462 rows x 7 columns]"
      ]
     },
     "execution_count": 13,
     "metadata": {},
     "output_type": "execute_result"
    }
   ],
   "source": [
    "#ADJUSTING DATA FOR TRADE EXPERIMENT\n",
    "test_data['Predicted Prices'] = predicted_prices\n",
    "test_data"
   ]
  },
  {
   "cell_type": "markdown",
   "id": "f90a3a84",
   "metadata": {},
   "source": [
    "# Methodology for Reinforcement Learning \n",
    "\n",
    "For the methods above we have used Reinforcment Learning in order to test can our stock prediction of price by fake trading it. <br>\n",
    "Reinforcement Learning is a form of unsupervised Machine Learning. In order to make it work we have to create the model, agent and the enviornment. <br>\n",
    "## Model\n",
    "Model is a Feed Forward Neural Network. It is consisted of Input, hidden and output layer. <br>\n",
    "Input layer is the part of the network that coresponds to the state of our agent. <br>\n",
    "State is a matrix that better describes the attributes that might be useful four our model to make decisions. <br>\n",
    "In our case the state we used is fairly simple due to limited amount of data we could gather, so it only consists of <br>\n",
    "price of the stock, our balance and current portfolio performance. <br>\n",
    "Hidden layer is consisted of many nodes and weights that do mathematical operations on our state so the product gives it's preferable action to maximize the reward. <br>\n",
    "Output layer is the action prefered by the model and usually you take the argmax of that array as the best action.<br>\n",
    "## Agent\n",
    "Agent here is a portoflio that can act on decisions made by the model. It has 3 options. Sell, buy and hold. <br>\n",
    "The actions due to simplicity are limited to selling and buying 5 stocks at a time. <br>\n",
    "Our agent also gathers the information for the state <br>\n",
    "## Environment\n",
    "The world our agent interacts with, in this case the simulation of the stock market. <br>\n",
    "Mny limitations due to short window for work on the project. <br>\n",
    "No intraday trading and also impossible scenario where you buy the stock at it's actual price, no ask/bid. <br>\n",
    "For our test we ran the simulation 10000 times and saved the model that got the best results."
   ]
  },
  {
   "cell_type": "code",
   "execution_count": null,
   "id": "56c5d7ab",
   "metadata": {},
   "outputs": [],
   "source": [
    "game = Game(test_data, 1000)"
   ]
  },
  {
   "cell_type": "code",
   "execution_count": 24,
   "id": "4e06cf3f",
   "metadata": {},
   "outputs": [],
   "source": [
    "import torch\n",
    "import torch.nn as nn\n",
    "import torch.optim as optim\n",
    "import torch.nn.functional as F\n",
    "import os\n",
    "\n",
    "class QNet(nn.Module):\n",
    "    \"\"\"\n",
    "    Creates Feed forward neural network\n",
    "    \"\"\"\n",
    "    def __init__(self, input_size, hidden_size, output_size):\n",
    "        super().__init__()\n",
    "        self.linear1 = nn.Linear(input_size, hidden_size)\n",
    "        self.linear2 = nn.Linear(hidden_size, output_size)\n",
    "        if os.path.exists('./model/model.pth'):\n",
    "            self.load_state_dict(torch.load('model/model.pth'))\n",
    "        \n",
    "    \"\"\"\n",
    "    Feeds our state to the network and returns the action    \n",
    "    \"\"\"\n",
    "    def forward(self, x):\n",
    "        x = F.relu(self.linear1(x))\n",
    "        x = self.linear2(x)\n",
    "        return x\n",
    "    \"\"\"\n",
    "    Saves the model so when you run the  code again it will use the saved model\n",
    "    \"\"\"\n",
    "    def save(self, file_name='model.pth'):\n",
    "        model_folder_path = './model'\n",
    "        if not os.path.exists(model_folder_path):\n",
    "            os.makedirs(model_folder_path)\n",
    "\n",
    "        file_name = os.path.join(model_folder_path, file_name)\n",
    "        torch.save(self.state_dict(), file_name)\n",
    "\n",
    "\n",
    "class QTrainer:\n",
    "    def __init__(self, model):\n",
    "        self.lr = 0.001\n",
    "        self.gamma = 0.5\n",
    "        self.model = model.to(\"cuda:0\")\n",
    "        self.optimizer = optim.Adam(model.parameters(), lr=self.lr)\n",
    "        self.criterion = nn.MSELoss()\n",
    "    \"\"\"\n",
    "    Training the model by using backpropagation that tries to find the local minimum\n",
    "    of the loss function\n",
    "    \"\"\"    \n",
    "    def train_step(self, state, action, reward, next_state, done):\n",
    "        state = torch.tensor(state, dtype=torch.float, device = torch.device(\"cuda:0\"))\n",
    "        next_state = torch.tensor(next_state, dtype=torch.float,device = torch.device(\"cuda:0\"))\n",
    "        #print(action)\n",
    "        action = torch.tensor(action, dtype=torch.long, device = torch.device(\"cuda:0\"))\n",
    "        reward = torch.tensor(reward, dtype=torch.float, device = torch.device(\"cuda:0\"))\n",
    "        # (n, x)\n",
    "\n",
    "        if len(state.shape) == 1:\n",
    "            # (1, x)\n",
    "            state = torch.unsqueeze(state, 0)\n",
    "            next_state = torch.unsqueeze(next_state, 0)\n",
    "            action = torch.unsqueeze(action, 0)\n",
    "\n",
    "            reward = torch.unsqueeze(reward, 0)\n",
    "            done = (done, )\n",
    "\n",
    "        # 1: predicted Q values with current state\n",
    "        pred = self.model(state)\n",
    "\n",
    "        target = pred.clone()\n",
    "        \n",
    "        for idx in range(len(done)):\n",
    "            Q_new = reward[idx]\n",
    "            if not done[idx]:\n",
    "                Q_new = reward[idx] + self.gamma * torch.max(self.model(next_state[idx]))\n",
    "\n",
    "            #print(action)\n",
    "            target[idx][torch.argmax(action[idx]).item()] = Q_new\n",
    "    \n",
    "        \n",
    "        self.optimizer.zero_grad()\n",
    "        loss = self.criterion(target, pred)\n",
    "        loss.backward()\n",
    "\n",
    "        self.optimizer.step()\n",
    "\n",
    "\n",
    "\n"
   ]
  },
  {
   "cell_type": "code",
   "execution_count": 20,
   "id": "7c782f86",
   "metadata": {},
   "outputs": [],
   "source": [
    "import random\n",
    "import torch\n",
    "from collections import deque\n",
    "import pandas as pd\n",
    "import numpy as np\n",
    "learning_rate = 0.001\n",
    "class Agent:\n",
    "\n",
    "    def __init__(self, cash):\n",
    "        \n",
    "        self.cash = cash\n",
    "        self.init_balance = cash\n",
    "        self.holdings_value = 0\n",
    "        self.value = cash\n",
    "        self.n_stocks = 0\n",
    "        self.memory = deque(maxlen=1000000)\n",
    "        self.holdings_average = 0\n",
    "        self.performance = 0\n",
    "        self.model = QNet(7,120,3)\n",
    "\n",
    "        learning_rate = 0.001\n",
    "        self.trainer = QTrainer(self.model)\n",
    "        self.epochs = 0\n",
    "\n",
    "    def getState(self, data):\n",
    "        state = [data[1]['Open'], data[1]['Predicted Prices'], self.n_stocks, \n",
    "        self.cash, self.holdings_value, self.holdings_average, self.performance]\n",
    "        return state\n",
    "    \n",
    "    def getAction(self,state):\n",
    "        self.epsilon = 300 - self.epochs\n",
    "        final_action = [0,0,0]\n",
    "        if random.randint(0, 240) < self.epsilon:\n",
    "            move = random.randint(0,2)\n",
    "            final_action[move] = 1\n",
    "        else:\n",
    "            \n",
    "            state0 = torch.tensor(state, dtype = torch.float, device = torch.device(\"cuda:0\"))\n",
    "            prediction = self.model(state0).to(\"cuda:0\")\n",
    "            move = torch.argmax(prediction).item()\n",
    "            final_action[move] = 1\n",
    "        return final_action\n",
    "\n",
    "    def openPosition(self, data):\n",
    "        if(self.cash >= data[1]['Open'] * 5):\n",
    "            self.cash -= data[1]['Open'] * 5\n",
    "            self.holdings_value = self.n_stocks * data[1]['Open'] + data[1]['Open'] * 5\n",
    "            self.n_stocks += 5\n",
    "            self.holdings_average = self.holdings_value / self.n_stocks\n",
    "            self.value = self.cash + self.holdings_value\n",
    "            return True\n",
    "        else:\n",
    "            return False\n",
    "    def closePosition(self, data):\n",
    "        if(self.n_stocks >= 5):\n",
    "            self.cash += data[1]['Open'] * 5\n",
    "            self.holdings_value = self.n_stocks * data[1]['Open'] - data[1]['Open'] * 5\n",
    "            self.holdings_average = self.holdings_value / self.n_stocks\n",
    "            self.n_stocks -= 5\n",
    "            return True\n",
    "        else:\n",
    "            return False\n",
    "    def calcPerformance(self):\n",
    "        self.performance = self.value/self.init_balance\n",
    "    def remember(self, state, action, reward, next_state, done):\n",
    "        self.memory.append((state, action, reward, next_state, done))\n",
    "    def trainLongMemory(self):\n",
    "        if len(self.memory) > 1000:\n",
    "            mini_sample = random.sample(self.memory, 1000)\n",
    "        else:\n",
    "            mini_sample = self.memory\n",
    "\n",
    "        states, actions, rewards, next_states, dones = zip(*mini_sample)\n",
    "        self.trainer.train_step(states, actions, rewards, next_states, dones)\n",
    "    def train_short_memory(self, state, action, reward, next_state, done):\n",
    "        self.trainer.train_step(state, action, reward, next_state, done)"
   ]
  },
  {
   "cell_type": "code",
   "execution_count": 23,
   "id": "350136dd",
   "metadata": {},
   "outputs": [],
   "source": [
    "\n",
    "import pandas as pd\n",
    "import matplotlib.pyplot as plt\n",
    "class Game:\n",
    "    def __init__(self, data, iterations):\n",
    "        self.data = data\n",
    "        self.iterations = iterations\n",
    "        self.agent = Agent(10000)\n",
    "        self.record = 1\n",
    "        self.df = pd.DataFrame()\n",
    "        \n",
    "    def run_test(self):\n",
    "        n_list = []\n",
    "        p_list = []\n",
    "        for n in range(0,self.iterations+1):\n",
    "            \n",
    "            for s in self.data.iterrows():\n",
    "                state = self.agent.getState(s)\n",
    "                action = self.agent.getAction(state)\n",
    "                if(action.index(max(action)) == 0):\n",
    "                    self.agent.openPosition(s)\n",
    "                elif(action.index(max(action)) == 1):\n",
    "                    self.agent.closePosition(s)\n",
    "                else:\n",
    "                    pass\n",
    "                self.agent.calcPerformance()\n",
    "                new_state = self.agent.getState(s)\n",
    "                self.agent.remember(state, action, self.agent.performance - 1, new_state, False)\n",
    "                self.agent.train_short_memory(state, action, self.agent.performance - 1, new_state, False)\n",
    "            perfromance = self.agent.performance\n",
    "            if(perfromance > self.record):\n",
    "                self.record = perfromance\n",
    "                self.agent.model.save()\n",
    "                self.agent.remember(state, action, perfromance, new_state, True)\n",
    "            else:\n",
    "                self.agent.remember(state, action, 0, new_state, True)\n",
    "            self.agent.trainLongMemory()\n",
    "            n_list.append(n)\n",
    "            p_list.append(perfromance)\n",
    "            self.agent.epochs += 1\n",
    "            self.agent.cash = 10000\n",
    "            self.agent.holdings_value = 0\n",
    "            self.agent.n_stocks = 0\n",
    "            self.agent.holdings_average = 0\n",
    "            self.agent.value = 10000\n",
    "            self.agent.performance = 1\n",
    "        self.df['iterations'] = n_list\n",
    "        self.df['Performance'] = p_list\n",
    "        plt.scatter(self.df['iterations'], self.df['Performance'])"
   ]
  },
  {
   "cell_type": "code",
   "execution_count": 26,
   "id": "65dedd97",
   "metadata": {},
   "outputs": [],
   "source": [
    "game = Game(test_data, 10000)"
   ]
  },
  {
   "cell_type": "code",
   "execution_count": 27,
   "id": "9e77a31b",
   "metadata": {},
   "outputs": [
    {
     "data": {
      "image/png": "[encoded data removed]",
      "text/plain": [
       "<Figure size 432x288 with 1 Axes>"
      ]
     },
     "metadata": {
      "needs_background": "light"
     },
     "output_type": "display_data"
    }
   ],
   "source": [
    "#DO NOT RUN AGAIN IT TAKES A LONG TIME\n",
    "os.environ['CUDA_VISIBLE_DEVICES'] ='0'\n",
    "game.run_test()"
   ]
  },
  {
   "cell_type": "code",
   "execution_count": 29,
   "id": "d53c2c8b",
   "metadata": {},
   "outputs": [
    {
     "name": "stdout",
     "output_type": "stream",
     "text": [
      "1.0439323024980516\n",
      "1.050226661682129\n"
     ]
    }
   ],
   "source": [
    "import numpy as np\n",
    "print(np.mean(game.df['Performance']))\n",
    "print(np.median(game.df['Performance']))"
   ]
  },
  {
   "cell_type": "markdown",
   "id": "323442e8",
   "metadata": {},
   "source": [
    "# Results of Reinforcement Learning\n",
    "## Action exploration and saving the model\n",
    "In the first 300 simulations the agent a lot of times makes completely random decisions in what is know as policy exploration. <br>\n",
    "Policy exploration determines what is best action to be used for every state. Given the fact that state space is theoratically infinite <br>\n",
    "we were unable to find the optimal policy. If we did we would not mention it in this notebook and would go on to start an Investment Fund. <br>\n",
    "But, it seems that with what are coin flip decisions you could achieve staggering 60% in one year of trading. With those results you would beat more than 90% of traders on the stock market. <br>\n",
    "It even beats the best performance when decisions are purely model based, 20%. Although it might be trivial we only save the 20% performing model. <br>\n",
    "Because at the end of the day coin flip decisions on the stock market can lead to even losing more that haf of your portfolio. <br>\n",
    "With model based trading we only see it dip to losses of around 20% max. There are some outliers but they are all discarded as we are only concerned with our best performing model. <br>\n",
    "# Conclusion\n",
    "We believe that in order to get better results one would need two things, better data and better back testing system <br>\n",
    "For now our model is only trading based on price and price only, and being profitable is actualy very promising. With more data and indicators we could see better results. <br>\n",
    "But in order to get it anywhere close to live-market ready it takes millions of simuations. Our simulation method is very slow and languages such as C++ would be preferable. <br>\n",
    "Implementation of mutlti-threading as well would help a lot."
   ]
  },
  {
   "cell_type": "code",
   "execution_count": null,
   "id": "c313b1e1",
   "metadata": {},
   "outputs": [],
   "source": []
  }
 ],
 "metadata": {
  "kernelspec": {
   "display_name": "Python 3 (ipykernel)",
   "language": "python",
   "name": "python3"
  },
  "language_info": {
   "codemirror_mode": {
    "name": "ipython",
    "version": 3
   },
   "file_extension": ".py",
   "mimetype": "text/x-python",
   "name": "python",
   "nbconvert_exporter": "python",
   "pygments_lexer": "ipython3",
   "version": "3.9.12"
  }
 },
 "nbformat": 4,
 "nbformat_minor": 5
}
